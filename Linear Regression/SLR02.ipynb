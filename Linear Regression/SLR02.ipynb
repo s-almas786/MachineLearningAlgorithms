{
 "cells": [
  {
   "cell_type": "code",
   "execution_count": 2,
   "id": "40ea4c98-216c-4aae-9d58-3c52c58df387",
   "metadata": {},
   "outputs": [],
   "source": [
    "import numpy as np\n",
    "import pandas as pd\n",
    "import matplotlib.pyplot as plt\n",
    "import math"
   ]
  },
  {
   "cell_type": "code",
   "execution_count": 3,
   "id": "451f5c19-1707-4aff-9fe8-e39797f7216b",
   "metadata": {},
   "outputs": [],
   "source": [
    "dataset = {\n",
    "    \"x\" : [5,7,8,7,2,17,2,9,4,11,12,9,6],\n",
    "    \"y\" : [99,86,87,88,111,86,103,87,94,78,77,85,86]\n",
    "    # \"x\": [1, 2, 3, 4, 5],\n",
    "    # \"y\": [1.9, 2.7, 3.2, 2.5, 5.1]\n",
    "}"
   ]
  },
  {
   "cell_type": "code",
   "execution_count": 4,
   "id": "a9c08ee2-7d3b-48fc-8765-f31ba9ee04d7",
   "metadata": {},
   "outputs": [],
   "source": [
    "df = pd.DataFrame(dataset)"
   ]
  },
  {
   "cell_type": "code",
   "execution_count": 5,
   "id": "e66a90ea-37e7-4770-9a62-6159410d6681",
   "metadata": {},
   "outputs": [
    {
     "data": {
      "text/html": [
       "<div>\n",
       "<style scoped>\n",
       "    .dataframe tbody tr th:only-of-type {\n",
       "        vertical-align: middle;\n",
       "    }\n",
       "\n",
       "    .dataframe tbody tr th {\n",
       "        vertical-align: top;\n",
       "    }\n",
       "\n",
       "    .dataframe thead th {\n",
       "        text-align: right;\n",
       "    }\n",
       "</style>\n",
       "<table border=\"1\" class=\"dataframe\">\n",
       "  <thead>\n",
       "    <tr style=\"text-align: right;\">\n",
       "      <th></th>\n",
       "      <th>x</th>\n",
       "      <th>y</th>\n",
       "    </tr>\n",
       "  </thead>\n",
       "  <tbody>\n",
       "    <tr>\n",
       "      <th>0</th>\n",
       "      <td>5</td>\n",
       "      <td>99</td>\n",
       "    </tr>\n",
       "    <tr>\n",
       "      <th>1</th>\n",
       "      <td>7</td>\n",
       "      <td>86</td>\n",
       "    </tr>\n",
       "    <tr>\n",
       "      <th>2</th>\n",
       "      <td>8</td>\n",
       "      <td>87</td>\n",
       "    </tr>\n",
       "    <tr>\n",
       "      <th>3</th>\n",
       "      <td>7</td>\n",
       "      <td>88</td>\n",
       "    </tr>\n",
       "    <tr>\n",
       "      <th>4</th>\n",
       "      <td>2</td>\n",
       "      <td>111</td>\n",
       "    </tr>\n",
       "    <tr>\n",
       "      <th>5</th>\n",
       "      <td>17</td>\n",
       "      <td>86</td>\n",
       "    </tr>\n",
       "    <tr>\n",
       "      <th>6</th>\n",
       "      <td>2</td>\n",
       "      <td>103</td>\n",
       "    </tr>\n",
       "    <tr>\n",
       "      <th>7</th>\n",
       "      <td>9</td>\n",
       "      <td>87</td>\n",
       "    </tr>\n",
       "    <tr>\n",
       "      <th>8</th>\n",
       "      <td>4</td>\n",
       "      <td>94</td>\n",
       "    </tr>\n",
       "    <tr>\n",
       "      <th>9</th>\n",
       "      <td>11</td>\n",
       "      <td>78</td>\n",
       "    </tr>\n",
       "    <tr>\n",
       "      <th>10</th>\n",
       "      <td>12</td>\n",
       "      <td>77</td>\n",
       "    </tr>\n",
       "    <tr>\n",
       "      <th>11</th>\n",
       "      <td>9</td>\n",
       "      <td>85</td>\n",
       "    </tr>\n",
       "    <tr>\n",
       "      <th>12</th>\n",
       "      <td>6</td>\n",
       "      <td>86</td>\n",
       "    </tr>\n",
       "  </tbody>\n",
       "</table>\n",
       "</div>"
      ],
      "text/plain": [
       "     x    y\n",
       "0    5   99\n",
       "1    7   86\n",
       "2    8   87\n",
       "3    7   88\n",
       "4    2  111\n",
       "5   17   86\n",
       "6    2  103\n",
       "7    9   87\n",
       "8    4   94\n",
       "9   11   78\n",
       "10  12   77\n",
       "11   9   85\n",
       "12   6   86"
      ]
     },
     "execution_count": 5,
     "metadata": {},
     "output_type": "execute_result"
    }
   ],
   "source": [
    "df"
   ]
  },
  {
   "cell_type": "code",
   "execution_count": 6,
   "id": "ce097191-b48b-4ad5-a494-3972887f59a4",
   "metadata": {},
   "outputs": [],
   "source": [
    "X = df.iloc[:,0].values\n",
    "Y = df.iloc[:,-1].values"
   ]
  },
  {
   "cell_type": "code",
   "execution_count": 7,
   "id": "a043d8d6-f06a-43ef-8eae-7c3e9ce9b0ce",
   "metadata": {},
   "outputs": [
    {
     "data": {
      "text/plain": [
       "array([ 5,  7,  8,  7,  2, 17,  2,  9,  4, 11, 12,  9,  6], dtype=int64)"
      ]
     },
     "execution_count": 7,
     "metadata": {},
     "output_type": "execute_result"
    }
   ],
   "source": [
    "X"
   ]
  },
  {
   "cell_type": "code",
   "execution_count": 8,
   "id": "ca854045-df83-4fe2-9e79-d37d202ef659",
   "metadata": {},
   "outputs": [
    {
     "data": {
      "text/plain": [
       "array([ 99,  86,  87,  88, 111,  86, 103,  87,  94,  78,  77,  85,  86],\n",
       "      dtype=int64)"
      ]
     },
     "execution_count": 8,
     "metadata": {},
     "output_type": "execute_result"
    }
   ],
   "source": [
    "Y"
   ]
  },
  {
   "cell_type": "code",
   "execution_count": 9,
   "id": "3a70e138-ab6a-4c60-9bc7-5694de4b6b7d",
   "metadata": {},
   "outputs": [
    {
     "data": {
      "image/png": "[encoded data removed]",
      "text/plain": [
       "<Figure size 432x288 with 1 Axes>"
      ]
     },
     "metadata": {
      "needs_background": "light"
     },
     "output_type": "display_data"
    }
   ],
   "source": [
    "plt.scatter(X,Y)\n",
    "plt.xlabel(\"X-Axis\")\n",
    "plt.ylabel(\"Y-Axis\")\n",
    "plt.title(\"Actual Data\")\n",
    "plt.show()"
   ]
  },
  {
   "cell_type": "code",
   "execution_count": 10,
   "id": "b2c2af56-0907-488d-9ea2-02df51391f29",
   "metadata": {},
   "outputs": [],
   "source": [
    "b1 = ..."
   ]
  },
  {
   "cell_type": "code",
   "execution_count": 11,
   "id": "7b20e9e7-a37e-49ed-a1a9-8942a068a439",
   "metadata": {},
   "outputs": [],
   "source": [
    "n = 0\n",
    "d = 0\n",
    "\n",
    "for i in range(len(X)):\n",
    "    n += (X[i] - np.mean(X)) * (Y[i] - np.mean(Y)) \n",
    "    d += (X[i] - np.mean(X)) ** 2"
   ]
  },
  {
   "cell_type": "code",
   "execution_count": 12,
   "id": "fb356807-7f1f-4c5d-a1fd-fcc05c261af7",
   "metadata": {},
   "outputs": [],
   "source": [
    "b1 = n/d"
   ]
  },
  {
   "cell_type": "code",
   "execution_count": 13,
   "id": "92253b40-45ec-420a-a254-0a108990ba45",
   "metadata": {},
   "outputs": [
    {
     "data": {
      "text/plain": [
       "-1.7512877115526122"
      ]
     },
     "execution_count": 13,
     "metadata": {},
     "output_type": "execute_result"
    }
   ],
   "source": [
    "b1"
   ]
  },
  {
   "cell_type": "code",
   "execution_count": 14,
   "id": "b44fcc5e-ab33-424a-8d29-c99cde246c1d",
   "metadata": {},
   "outputs": [],
   "source": [
    "b0 = ..."
   ]
  },
  {
   "cell_type": "code",
   "execution_count": 15,
   "id": "f157cc07-38f7-4162-92da-46e1de601093",
   "metadata": {},
   "outputs": [],
   "source": [
    "b0 = np.mean(Y) - (b1 * np.mean(X))"
   ]
  },
  {
   "cell_type": "code",
   "execution_count": 16,
   "id": "0aa57b35-f01a-4237-bf18-057c5b2c4802",
   "metadata": {},
   "outputs": [
    {
     "data": {
      "text/plain": [
       "103.10596026490066"
      ]
     },
     "execution_count": 16,
     "metadata": {},
     "output_type": "execute_result"
    }
   ],
   "source": [
    "b0"
   ]
  },
  {
   "cell_type": "code",
   "execution_count": 17,
   "id": "d7284fef-03fb-4343-a351-060db7e4e936",
   "metadata": {},
   "outputs": [],
   "source": [
    "y_pred = b0 + (b1 * X)"
   ]
  },
  {
   "cell_type": "code",
   "execution_count": 18,
   "id": "8e1880ae-24b1-4ed3-a25d-8c6411c9b7a7",
   "metadata": {},
   "outputs": [
    {
     "data": {
      "text/plain": [
       "array([94.34952171, 90.84694628, 89.09565857, 90.84694628, 99.60338484,\n",
       "       73.33406917, 99.60338484, 87.34437086, 96.10080942, 83.84179544,\n",
       "       82.09050773, 87.34437086, 92.598234  ])"
      ]
     },
     "execution_count": 18,
     "metadata": {},
     "output_type": "execute_result"
    }
   ],
   "source": [
    "y_pred"
   ]
  },
  {
   "cell_type": "code",
   "execution_count": 19,
   "id": "e3aa7ccf-7b4a-4a41-b101-8dcbc122ec88",
   "metadata": {},
   "outputs": [
    {
     "data": {
      "image/png": "[encoded data removed]",
      "text/plain": [
       "<Figure size 432x288 with 1 Axes>"
      ]
     },
     "metadata": {
      "needs_background": "light"
     },
     "output_type": "display_data"
    }
   ],
   "source": [
    "plt.scatter(X,Y, color=\"blue\", label=\"Actual Values\")\n",
    "plt.plot(X,y_pred, color=\"red\", label=\"Predicted Values\", marker=\"o\")\n",
    "plt.legend()\n",
    "plt.show()"
   ]
  },
  {
   "cell_type": "code",
   "execution_count": 20,
   "id": "8406875c-e4ae-43c6-8947-9fbe52577643",
   "metadata": {},
   "outputs": [],
   "source": [
    "r2 = ..."
   ]
  },
  {
   "cell_type": "code",
   "execution_count": 21,
   "id": "8625a722-516d-4dd1-b33b-45a131441ed2",
   "metadata": {},
   "outputs": [],
   "source": [
    "# r2 = ssr/sst = Σ(ypred - ymean)2 / Σ(yactual - ymean)2"
   ]
  },
  {
   "cell_type": "code",
   "execution_count": 24,
   "id": "bf96edb8-594b-46e0-9ed7-82397355d0b6",
   "metadata": {},
   "outputs": [],
   "source": [
    "ssr = 0\n",
    "sst = 0\n",
    "\n",
    "for i in range(len(Y)):\n",
    "    ssr += (y_pred[i] - np.mean(Y)) ** 2\n",
    "    sst += (Y[i] - np.mean(Y)) ** 2"
   ]
  },
  {
   "cell_type": "code",
   "execution_count": 25,
   "id": "0c6dc39d-44a9-42db-8974-9b9696470d40",
   "metadata": {},
   "outputs": [],
   "source": [
    "r2 = ssr/sst"
   ]
  },
  {
   "cell_type": "code",
   "execution_count": 26,
   "id": "e1c1b3d9-60e6-4f30-adc1-67931189d42a",
   "metadata": {},
   "outputs": [
    {
     "data": {
      "text/plain": [
       "0.5754611008553386"
      ]
     },
     "execution_count": 26,
     "metadata": {},
     "output_type": "execute_result"
    }
   ],
   "source": [
    "r2"
   ]
  },
  {
   "cell_type": "code",
   "execution_count": 27,
   "id": "d3ddbfa4-2e4b-4024-a753-789b2e314544",
   "metadata": {},
   "outputs": [],
   "source": [
    "# mse = 1/len(y) (ypred - yactual)2"
   ]
  },
  {
   "cell_type": "code",
   "execution_count": 28,
   "id": "4199f31e-e0b2-48c5-b52b-a9d1edbd456a",
   "metadata": {},
   "outputs": [],
   "source": [
    "n = 0\n",
    "for i in range(len(Y)):\n",
    "    n += (y_pred[i] - Y[i]) ** 2"
   ]
  },
  {
   "cell_type": "code",
   "execution_count": 29,
   "id": "97b1d6d1-b69a-41e5-a962-d0dbc1bd1e12",
   "metadata": {},
   "outputs": [],
   "source": [
    "mse = n / len(Y)"
   ]
  },
  {
   "cell_type": "code",
   "execution_count": 30,
   "id": "b6d9102f-a87a-4eee-8e2b-ed830c841500",
   "metadata": {},
   "outputs": [
    {
     "data": {
      "text/plain": [
       "36.389766230825856"
      ]
     },
     "execution_count": 30,
     "metadata": {},
     "output_type": "execute_result"
    }
   ],
   "source": [
    "mse"
   ]
  },
  {
   "cell_type": "code",
   "execution_count": 31,
   "id": "4fb5ddf8-71ae-48af-8151-d6e2aa5deba1",
   "metadata": {},
   "outputs": [],
   "source": [
    "# rms = sqrt( mse ) or sqrt( 1/len(y) (ypred - yactual)2)"
   ]
  },
  {
   "cell_type": "code",
   "execution_count": 32,
   "id": "23e7d7c1-e96e-4a14-9cc0-1b232b92f32f",
   "metadata": {},
   "outputs": [],
   "source": [
    "rmse = ..."
   ]
  },
  {
   "cell_type": "code",
   "execution_count": 33,
   "id": "99df3c73-7334-443e-a369-f8c7edcb7afb",
   "metadata": {},
   "outputs": [],
   "source": [
    "rmse = math.sqrt(mse)"
   ]
  },
  {
   "cell_type": "code",
   "execution_count": 34,
   "id": "c1066955-3d21-40cb-9036-cba5a36f1c67",
   "metadata": {},
   "outputs": [
    {
     "data": {
      "text/plain": [
       "6.032393076617757"
      ]
     },
     "execution_count": 34,
     "metadata": {},
     "output_type": "execute_result"
    }
   ],
   "source": [
    "rmse"
   ]
  },
  {
   "cell_type": "code",
   "execution_count": null,
   "id": "2b6e2d51-cbfc-4524-b547-adb876acb0e4",
   "metadata": {},
   "outputs": [],
   "source": []
  }
 ],
 "metadata": {
  "kernelspec": {
   "display_name": "Python 3 (ipykernel)",
   "language": "python",
   "name": "python3"
  },
  "language_info": {
   "codemirror_mode": {
    "name": "ipython",
    "version": 3
   },
   "file_extension": ".py",
   "mimetype": "text/x-python",
   "name": "python",
   "nbconvert_exporter": "python",
   "pygments_lexer": "ipython3",
   "version": "3.9.7"
  }
 },
 "nbformat": 4,
 "nbformat_minor": 5
}
