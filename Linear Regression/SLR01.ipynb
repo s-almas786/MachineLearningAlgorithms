{
 "cells": [
  {
   "cell_type": "code",
   "execution_count": 3,
   "id": "33c70ec7-4b83-4645-9fe7-d51c0d60ff83",
   "metadata": {},
   "outputs": [],
   "source": [
    "import numpy as np\n",
    "import matplotlib.pyplot as plt"
   ]
  },
  {
   "cell_type": "code",
   "execution_count": 4,
   "id": "84cdcab1-5f03-4681-a26f-0a558b9770cf",
   "metadata": {},
   "outputs": [],
   "source": [
    "x = np.array([1,2,3,4,5])\n",
    "y = np.array([3,4,2,4,5])"
   ]
  },
  {
   "cell_type": "code",
   "execution_count": 5,
   "id": "964cb035-a18a-4c5e-b346-ce4f8860a8ab",
   "metadata": {},
   "outputs": [
    {
     "data": {
      "image/png": "[encoded data removed]",
      "text/plain": [
       "<Figure size 432x288 with 1 Axes>"
      ]
     },
     "metadata": {
      "needs_background": "light"
     },
     "output_type": "display_data"
    }
   ],
   "source": [
    "plt.scatter(x,y)\n",
    "plt.xlabel(\"x values\")\n",
    "plt.ylabel(\"y values\")\n",
    "plt.show()"
   ]
  },
  {
   "cell_type": "markdown",
   "id": "67c97848-9129-4697-bc81-840f6c872c05",
   "metadata": {},
   "source": [
    "### y = mx + c or y = b1x + b0"
   ]
  },
  {
   "cell_type": "code",
   "execution_count": 6,
   "id": "c7c55434-be40-4661-a0e7-06b30d4ceaaf",
   "metadata": {},
   "outputs": [],
   "source": [
    "# b1 = slope\n",
    "# b0 = intercept"
   ]
  },
  {
   "cell_type": "code",
   "execution_count": 7,
   "id": "4f4d307a-1cd4-4b42-8468-bffb01acbda3",
   "metadata": {},
   "outputs": [],
   "source": [
    "n = d = 0\n",
    "for i in range(len(x)):\n",
    "    n += (x[i] - np.mean(x)) *  (y[i] - np.mean(y))\n",
    "    d += (x[i] - np.mean(x)) ** 2"
   ]
  },
  {
   "cell_type": "code",
   "execution_count": 8,
   "id": "3c1eb55b-42a2-43b1-ad0c-3af08d478154",
   "metadata": {},
   "outputs": [],
   "source": [
    "b1 = n / d"
   ]
  },
  {
   "cell_type": "code",
   "execution_count": 9,
   "id": "08745a70-d54a-45d9-b46d-e5fdf864a2b1",
   "metadata": {},
   "outputs": [
    {
     "data": {
      "text/plain": [
       "0.4"
      ]
     },
     "execution_count": 9,
     "metadata": {},
     "output_type": "execute_result"
    }
   ],
   "source": [
    "b1"
   ]
  },
  {
   "cell_type": "code",
   "execution_count": 10,
   "id": "51ee73a0-3844-441d-9e7b-d9fa89fd9174",
   "metadata": {},
   "outputs": [],
   "source": [
    "# now\n",
    "# 3.6 = (0.4)(3) + b0"
   ]
  },
  {
   "cell_type": "code",
   "execution_count": 11,
   "id": "16464c7a-d7c2-4451-a29f-6c5663916b7b",
   "metadata": {},
   "outputs": [],
   "source": [
    "b0 = np.mean(y) - (b1 * np.mean(x))"
   ]
  },
  {
   "cell_type": "code",
   "execution_count": 12,
   "id": "9695d85b-25fc-4025-8548-44a718cd47cd",
   "metadata": {},
   "outputs": [
    {
     "data": {
      "text/plain": [
       "2.4"
      ]
     },
     "execution_count": 12,
     "metadata": {},
     "output_type": "execute_result"
    }
   ],
   "source": [
    "b0"
   ]
  },
  {
   "cell_type": "code",
   "execution_count": 13,
   "id": "25f47320-ca10-4ac0-8649-90b68b37bc35",
   "metadata": {},
   "outputs": [],
   "source": [
    "y_pred = b0 + (b1 * x)"
   ]
  },
  {
   "cell_type": "code",
   "execution_count": 14,
   "id": "92a34d8d-b251-4ffe-b704-7faa68aa7883",
   "metadata": {},
   "outputs": [
    {
     "data": {
      "text/plain": [
       "array([2.8, 3.2, 3.6, 4. , 4.4])"
      ]
     },
     "execution_count": 14,
     "metadata": {},
     "output_type": "execute_result"
    }
   ],
   "source": [
    "y_pred"
   ]
  },
  {
   "cell_type": "code",
   "execution_count": 15,
   "id": "1cafb529-1994-4019-9831-088ed336d167",
   "metadata": {},
   "outputs": [
    {
     "data": {
      "image/png": "[encoded data removed]",
      "text/plain": [
       "<Figure size 432x288 with 1 Axes>"
      ]
     },
     "metadata": {
      "needs_background": "light"
     },
     "output_type": "display_data"
    }
   ],
   "source": [
    "plt.scatter(x,y, color=\"blue\", label=\"Actual Values\")\n",
    "plt.plot(x,y_pred, color=\"red\", label=\"Predicted Values\", marker=\"o\")\n",
    "plt.legend()\n",
    "plt.show()"
   ]
  },
  {
   "cell_type": "code",
   "execution_count": 16,
   "id": "08477a8a-5a9b-4f6e-a8e4-8a8882d473f5",
   "metadata": {},
   "outputs": [],
   "source": [
    "r2 = ..."
   ]
  },
  {
   "cell_type": "code",
   "execution_count": 17,
   "id": "6c63edaf-f41c-4687-9c8f-b1c3b48d6d67",
   "metadata": {},
   "outputs": [],
   "source": [
    "# r2 = ssr/sst = Σ(ypred - ymean)2 / Σ(yactual - ymean)2"
   ]
  },
  {
   "cell_type": "code",
   "execution_count": 20,
   "id": "4d54c1c3-b584-451b-be87-edc3be3e7c92",
   "metadata": {},
   "outputs": [],
   "source": [
    "ssr = 0\n",
    "sst = 0\n",
    "\n",
    "for i in range(len(y)):\n",
    "    ssr += (y_pred[i] - np.mean(y)) ** 2\n",
    "    sst += (y[i] - np.mean(y)) ** 2"
   ]
  },
  {
   "cell_type": "code",
   "execution_count": 21,
   "id": "aa4d48c9-a912-4226-8875-fc9c776cf772",
   "metadata": {},
   "outputs": [],
   "source": [
    "r2 = ssr/sst"
   ]
  },
  {
   "cell_type": "code",
   "execution_count": 22,
   "id": "e833d2c3-bbd1-4ab4-9a1e-f368f9638229",
   "metadata": {},
   "outputs": [
    {
     "data": {
      "text/plain": [
       "0.3076923076923078"
      ]
     },
     "execution_count": 22,
     "metadata": {},
     "output_type": "execute_result"
    }
   ],
   "source": [
    "r2"
   ]
  },
  {
   "cell_type": "code",
   "execution_count": null,
   "id": "104e36e2-5502-4076-b5ee-e63aeae14a91",
   "metadata": {},
   "outputs": [],
   "source": []
  }
 ],
 "metadata": {
  "kernelspec": {
   "display_name": "Python 3 (ipykernel)",
   "language": "python",
   "name": "python3"
  },
  "language_info": {
   "codemirror_mode": {
    "name": "ipython",
    "version": 3
   },
   "file_extension": ".py",
   "mimetype": "text/x-python",
   "name": "python",
   "nbconvert_exporter": "python",
   "pygments_lexer": "ipython3",
   "version": "3.9.7"
  }
 },
 "nbformat": 4,
 "nbformat_minor": 5
}
