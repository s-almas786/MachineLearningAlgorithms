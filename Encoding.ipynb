{
 "cells": [
  {
   "cell_type": "markdown",
   "id": "8d2a4ee3-4fb9-48c8-8f17-d545992aeb6c",
   "metadata": {},
   "source": [
    "# NOMINAL CATEGORICAL VARIABLE"
   ]
  },
  {
   "cell_type": "markdown",
   "id": "6af7eab3-2060-4c4e-a7f8-fbc3958509cf",
   "metadata": {},
   "source": [
    "Nominal categorical variables are those for which we do not have to worry about the arrangement of the categories.\n",
    "\n",
    "Example,\n",
    "\n",
    "i. suppose we have a gender column with categories as Male and Female.\n",
    "ii. We can also have a state column in which we have different states like NY, FL, NV, TX\n",
    "So here we don’t have to worry about the arrangement of the categories."
   ]
  },
  {
   "cell_type": "markdown",
   "id": "40360652-3588-40b6-8f19-34ff826443e6",
   "metadata": {},
   "source": [
    "# ORDINAL CATEGORICAL VARIABLE"
   ]
  },
  {
   "cell_type": "markdown",
   "id": "9aaf12de-b000-44e8-8a18-ccd7fd0232e8",
   "metadata": {},
   "source": [
    "Ordinal categories are those in which we have to worry about the rank. These categories can be rearranged based on ranks.\n",
    "\n",
    "Example,\n",
    "\n",
    "i. Suppose in a dataset there is an education column which we will use to predict the salary of the person. The education column has categories like ‘bachelors’,’masters’,’PHD’. Based on the above categories we can rearrange this and assign ranks to each category. Based on the education level ‘PHD’ will get the highest rank (PHD-1, masters-2, bachelors-3)."
   ]
  },
  {
   "cell_type": "markdown",
   "id": "94e13bb7-1e30-47db-a797-0751b27a5678",
   "metadata": {},
   "source": [
    "# Label Encoding or Ordinal Encoding"
   ]
  },
  {
   "cell_type": "markdown",
   "id": "5559f117-a2e6-425a-b007-21e842a04043",
   "metadata": {},
   "source": [
    "We use this categorical data encoding technique when the categorical feature is ordinal. In this case, retaining the order is important. Hence encoding should reflect the sequence.\n",
    "\n",
    "In Label encoding, each label is converted into an integer value. We will create a variable that contains the categories representing the education qualification of a person."
   ]
  },
  {
   "cell_type": "markdown",
   "id": "c49e8781-328b-4a58-94c5-4ece4f84c747",
   "metadata": {},
   "source": [
    "# One Hot Encoding"
   ]
  },
  {
   "cell_type": "markdown",
   "id": "8500207f-b436-420e-911e-518fe07a2af6",
   "metadata": {},
   "source": [
    "We use this categorical data encoding technique when the features are nominal(do not have any order). In one hot encoding, for each level of a categorical feature, we create a new variable. Each category is mapped with a binary variable containing either 0 or 1. Here, 0 represents the absence, and 1 represents the presence of that category.\n",
    "\n",
    "These newly created binary features are known as Dummy variables. The number of dummy variables depends on the levels present in the categorical variable. This might sound complicated. Let us take an example to understand this better. Suppose we have a dataset with a category animal, having different animals like Dog, Cat, Sheep, Cow, Lion. Now we have to one-hot encode this data."
   ]
  },
  {
   "cell_type": "markdown",
   "id": "284d713e-6a16-4a36-a73a-dbf8567f5deb",
   "metadata": {},
   "source": [
    "# Dummy Encoding"
   ]
  },
  {
   "cell_type": "markdown",
   "id": "d3fc2b87-832f-4d74-aed1-b6bfcfbe0f0a",
   "metadata": {},
   "source": [
    "Dummy coding scheme is similar to one-hot encoding. This categorical data encoding method transforms the categorical variable into a set of binary variables (also known as dummy variables). In the case of one-hot encoding, for N categories in a variable, it uses N binary variables. The dummy encoding is a small improvement over one-hot-encoding. Dummy encoding uses N-1 features to represent N labels/categories.\n",
    "\n",
    "To understand this better let’s see the image below. Here we are coding the same data using both one-hot encoding and dummy encoding techniques. While one-hot uses 3 variables to represent the data whereas dummy encoding uses 2 variables to code 3 categories."
   ]
  },
  {
   "cell_type": "markdown",
   "id": "5b3ead7c-ee77-4ba9-ad41-1b13b20e22de",
   "metadata": {},
   "source": [
    "# Drawbacks of  One-Hot and Dummy Encoding"
   ]
  },
  {
   "cell_type": "markdown",
   "id": "3a111528-4766-41fa-96aa-2b868ae056e4",
   "metadata": {},
   "source": [
    "One hot encoder and dummy encoder are two powerful and effective encoding schemes. They are also very popular among the data scientists, But may not be as effective when-\n",
    "\n",
    "A large number of levels are present in data. If there are multiple categories in a feature variable in such a case we need a similar number of dummy variables to encode the data. For example, a column with 30 different values will require 30 new variables for coding.\n",
    "If we have multiple categorical features in the dataset similar situation will occur and again we will end to have several binary features each representing the categorical feature and their multiple categories e.g a dataset having 10 or more categorical columns.\n",
    "In both the above cases, these two encoding schemes introduce sparsity in the dataset i.e several columns having 0s and a few of them having 1s. In other words, it creates multiple dummy features in the dataset without adding much information.\n",
    "\n",
    "Also, they might lead to a Dummy variable trap. It is a phenomenon where features are highly correlated. That means using the other variables, we can easily predict the value of a variable.\n",
    "\n",
    "Due to the massive increase in the dataset, coding slows down the learning of the model along with deteriorating the overall performance that ultimately makes the model computationally expensive. Further, while using tree-based models these encodings are not an optimum choice."
   ]
  },
  {
   "cell_type": "markdown",
   "id": "8a62624b-b634-4cf4-a3a3-e8e322db877f",
   "metadata": {},
   "source": []
  }
 ],
 "metadata": {
  "kernelspec": {
   "display_name": "Python 3 (ipykernel)",
   "language": "python",
   "name": "python3"
  },
  "language_info": {
   "codemirror_mode": {
    "name": "ipython",
    "version": 3
   },
   "file_extension": ".py",
   "mimetype": "text/x-python",
   "name": "python",
   "nbconvert_exporter": "python",
   "pygments_lexer": "ipython3",
   "version": "3.9.7"
  }
 },
 "nbformat": 4,
 "nbformat_minor": 5
}
